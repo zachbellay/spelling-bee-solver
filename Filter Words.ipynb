{
 "cells": [
  {
   "cell_type": "code",
   "execution_count": 35,
   "metadata": {},
   "outputs": [],
   "source": [
    "import os\n",
    "import re"
   ]
  },
  {
   "cell_type": "code",
   "execution_count": 36,
   "metadata": {},
   "outputs": [],
   "source": [
    "word_list = []\n",
    "with open(\"twl06.txt\", \"r\") as f:\n",
    "    word_list = f.readlines()    "
   ]
  },
  {
   "cell_type": "code",
   "execution_count": 37,
   "metadata": {},
   "outputs": [],
   "source": [
    "regex = r\"^[a-z]+$\""
   ]
  },
  {
   "cell_type": "code",
   "execution_count": 38,
   "metadata": {},
   "outputs": [],
   "source": [
    "with open(\"words.js\", \"w\") as f:    \n",
    "    f.write(\"const words = [\\n\")\n",
    "    for word in word_list:\n",
    "        word = word.replace(\"\\n\", \"\")\n",
    "        # Word can't be a proper noun, have any symbols, and must be at least 4 letters long\n",
    "        if(len(re.findall(regex,word)) != 0 and len(word) > 3):\n",
    "            # also can't have more than 7 unique letters\n",
    "            if(len(set(word)) <= 7):\n",
    "                f.write(f\"\\t'{word}',\\n\")\n",
    "    f.write(\"];\\n\\n\")\n",
    "    f.write(\"export default words;\")\n"
   ]
  },
  {
   "cell_type": "code",
   "execution_count": null,
   "metadata": {},
   "outputs": [],
   "source": []
  }
 ],
 "metadata": {
  "kernelspec": {
   "display_name": "Python 3",
   "language": "python",
   "name": "python3"
  },
  "language_info": {
   "codemirror_mode": {
    "name": "ipython",
    "version": 3
   },
   "file_extension": ".py",
   "mimetype": "text/x-python",
   "name": "python",
   "nbconvert_exporter": "python",
   "pygments_lexer": "ipython3",
   "version": "3.9.1"
  }
 },
 "nbformat": 4,
 "nbformat_minor": 4
}
